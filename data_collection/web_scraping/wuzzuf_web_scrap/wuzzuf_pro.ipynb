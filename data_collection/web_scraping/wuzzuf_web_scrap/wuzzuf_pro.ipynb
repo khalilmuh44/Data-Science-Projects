{
 "cells": [
  {
   "cell_type": "markdown",
   "id": "4e1a8d25",
   "metadata": {},
   "source": [
    "# Wuzzuf Scraping "
   ]
  },
  {
   "cell_type": "markdown",
   "id": "857275ea",
   "metadata": {},
   "source": [
    "## Check Allow and Disallow Scraping "
   ]
  },
  {
   "cell_type": "code",
   "execution_count": 1,
   "id": "dfbd1592",
   "metadata": {},
   "outputs": [],
   "source": [
    "# https://wuzzuf.net/robots.txt"
   ]
  },
  {
   "cell_type": "markdown",
   "id": "2eaf1898",
   "metadata": {},
   "source": [
    "## Import Libraries and Modules "
   ]
  },
  {
   "cell_type": "code",
   "execution_count": 2,
   "id": "b0afe663",
   "metadata": {},
   "outputs": [],
   "source": [
    "import requests\n",
    "from bs4 import BeautifulSoup"
   ]
  },
  {
   "cell_type": "markdown",
   "id": "d196d1de",
   "metadata": {},
   "source": [
    "## Check website response "
   ]
  },
  {
   "cell_type": "code",
   "execution_count": 4,
   "id": "1b514429",
   "metadata": {},
   "outputs": [
    {
     "data": {
      "text/plain": [
       "<Response [200]>"
      ]
     },
     "execution_count": 4,
     "metadata": {},
     "output_type": "execute_result"
    }
   ],
   "source": [
    "response = requests.get(url='https://wuzzuf.net/search/jobs/?a=navbl%7Cspbl&q=data%20science')\n",
    "response"
   ]
  },
  {
   "cell_type": "markdown",
   "id": "e6849b11",
   "metadata": {},
   "source": [
    "## Collect Data "
   ]
  },
  {
   "cell_type": "code",
   "execution_count": null,
   "id": "f6b6add1",
   "metadata": {},
   "outputs": [],
   "source": [
    "# response.content  >>> Bring me the content inside this response \n",
    "# 'html.parser'     >>> Specify type of parsing {By default : html }\n",
    "data = BeautifulSoup(response.content , 'html.parser')\n",
    "data   "
   ]
  },
  {
   "cell_type": "markdown",
   "id": "df7b49a1",
   "metadata": {},
   "source": [
    "## Extract job title "
   ]
  },
  {
   "cell_type": "markdown",
   "id": "a9d3d72c",
   "metadata": {},
   "source": [
    "### Way 1"
   ]
  },
  {
   "cell_type": "code",
   "execution_count": 122,
   "id": "060b090d",
   "metadata": {},
   "outputs": [
    {
     "data": {
      "text/plain": [
       "<h2 class=\"css-193uk2c\"><style data-emotion=\"css o171kl\">.css-o171kl{-webkit-text-decoration:none;text-decoration:none;color:inherit;}</style><a class=\"css-o171kl\" href=\"https://wuzzuf.net/jobs/p/f2mpxj1rzhp1-data-science-instructor-epsilonai-cairo-egypt\" rel=\"noreferrer\" target=\"_blank\">Data Science Instructor</a></h2>"
      ]
     },
     "execution_count": 122,
     "metadata": {},
     "output_type": "execute_result"
    }
   ],
   "source": [
    "data.find('h2' , 'css-193uk2c')"
   ]
  },
  {
   "cell_type": "code",
   "execution_count": 123,
   "id": "94b1a84c",
   "metadata": {},
   "outputs": [
    {
     "data": {
      "text/plain": [
       "<a class=\"css-o171kl\" href=\"https://wuzzuf.net/jobs/p/f2mpxj1rzhp1-data-science-instructor-epsilonai-cairo-egypt\" rel=\"noreferrer\" target=\"_blank\">Data Science Instructor</a>"
      ]
     },
     "execution_count": 123,
     "metadata": {},
     "output_type": "execute_result"
    }
   ],
   "source": [
    "data.find('h2' , 'css-193uk2c').a"
   ]
  },
  {
   "cell_type": "code",
   "execution_count": 124,
   "id": "80f9b417",
   "metadata": {},
   "outputs": [
    {
     "data": {
      "text/plain": [
       "'Data Science Instructor'"
      ]
     },
     "execution_count": 124,
     "metadata": {},
     "output_type": "execute_result"
    }
   ],
   "source": [
    "data.find('h2' , 'css-193uk2c').a.text"
   ]
  },
  {
   "cell_type": "code",
   "execution_count": 125,
   "id": "01888bfc",
   "metadata": {},
   "outputs": [
    {
     "data": {
      "text/plain": [
       "'https://wuzzuf.net/jobs/p/f2mpxj1rzhp1-data-science-instructor-epsilonai-cairo-egypt'"
      ]
     },
     "execution_count": 125,
     "metadata": {},
     "output_type": "execute_result"
    }
   ],
   "source": [
    "data.find('h2' , 'css-193uk2c').a['href'] "
   ]
  },
  {
   "cell_type": "markdown",
   "id": "8cbad02b",
   "metadata": {},
   "source": [
    "### Way 2"
   ]
  },
  {
   "cell_type": "code",
   "execution_count": 126,
   "id": "80339fb5",
   "metadata": {},
   "outputs": [
    {
     "data": {
      "text/plain": [
       "'Data Science Instructor'"
      ]
     },
     "execution_count": 126,
     "metadata": {},
     "output_type": "execute_result"
    }
   ],
   "source": [
    "data.find('div' , 'css-pkv5jc').find('div','css-lptxge').h2.text "
   ]
  },
  {
   "cell_type": "markdown",
   "id": "d8983fb9",
   "metadata": {},
   "source": [
    "## Extract Company Name"
   ]
  },
  {
   "cell_type": "code",
   "execution_count": 26,
   "id": "5046320c",
   "metadata": {},
   "outputs": [
    {
     "data": {
      "text/plain": [
       "'EpsilonAI -'"
      ]
     },
     "execution_count": 26,
     "metadata": {},
     "output_type": "execute_result"
    }
   ],
   "source": [
    "data.find('div' , 'css-pkv5jc').find('div','css-lptxge').div.a.text"
   ]
  },
  {
   "cell_type": "markdown",
   "id": "144dca1d",
   "metadata": {},
   "source": []
  },
  {
   "cell_type": "markdown",
   "id": "990b957e",
   "metadata": {},
   "source": [
    "#### Cleaning String "
   ]
  },
  {
   "cell_type": "markdown",
   "id": "b6adef1d",
   "metadata": {},
   "source": [
    "##### By strip() function"
   ]
  },
  {
   "cell_type": "code",
   "execution_count": 28,
   "id": "d81ebb1b",
   "metadata": {},
   "outputs": [
    {
     "data": {
      "text/plain": [
       "'EpsilonAI'"
      ]
     },
     "execution_count": 28,
     "metadata": {},
     "output_type": "execute_result"
    }
   ],
   "source": [
    "data.find('div' , 'css-pkv5jc').find('div','css-lptxge').div.a.text.strip(' -')"
   ]
  },
  {
   "cell_type": "markdown",
   "id": "974a58e4",
   "metadata": {},
   "source": [
    "#### By Indexing "
   ]
  },
  {
   "cell_type": "code",
   "execution_count": 29,
   "id": "83dae131",
   "metadata": {},
   "outputs": [
    {
     "data": {
      "text/plain": [
       "'EpsilonAI'"
      ]
     },
     "execution_count": 29,
     "metadata": {},
     "output_type": "execute_result"
    }
   ],
   "source": [
    "data.find('div' , 'css-pkv5jc').find('div','css-lptxge').div.a.text[: -2]"
   ]
  },
  {
   "cell_type": "markdown",
   "id": "864deb0a",
   "metadata": {},
   "source": [
    "#### By replace() function "
   ]
  },
  {
   "cell_type": "code",
   "execution_count": 31,
   "id": "ac102343",
   "metadata": {},
   "outputs": [
    {
     "data": {
      "text/plain": [
       "'EpsilonAI'"
      ]
     },
     "execution_count": 31,
     "metadata": {},
     "output_type": "execute_result"
    }
   ],
   "source": [
    "data.find('div' , 'css-pkv5jc').find('div','css-lptxge').div.a.text.replace(' -' , '')  "
   ]
  },
  {
   "cell_type": "markdown",
   "id": "6c19e719",
   "metadata": {},
   "source": [
    "## Extract City Name "
   ]
  },
  {
   "cell_type": "code",
   "execution_count": 35,
   "metadata": {},
   "outputs": [
    {
     "data": {
      "text/plain": [
       "'Nasr City, Cairo, Egypt'"
      ]
     },
     "execution_count": 35,
     "metadata": {},
     "output_type": "execute_result"
    }
   ],
   "source": [
    "data.find('div' , 'css-pkv5jc').find('div','css-lptxge').div.span.text.strip()"
   ]
  },
  {
   "cell_type": "code",
   "execution_count": 38,
   "id": "5249fb61",
   "metadata": {},
   "outputs": [
    {
     "data": {
      "text/plain": [
       "'Nasr City'"
      ]
     },
     "execution_count": 38,
     "metadata": {},
     "output_type": "execute_result"
    }
   ],
   "source": [
    "data.find('div' , 'css-pkv5jc').find('div','css-lptxge').div.span.text.strip().split(',')[0]"
   ]
  },
  {
   "cell_type": "markdown",
   "id": "e03d717e",
   "metadata": {},
   "source": [
    "##  Extract Province Name "
   ]
  },
  {
   "cell_type": "code",
   "execution_count": 40,
   "id": "a701f2d6",
   "metadata": {},
   "outputs": [
    {
     "data": {
      "text/plain": [
       "'Cairo'"
      ]
     },
     "execution_count": 40,
     "metadata": {},
     "output_type": "execute_result"
    }
   ],
   "source": [
    "data.find('div' , 'css-pkv5jc').find('div','css-lptxge').div.span.text.split(',')[1].strip()"
   ]
  },
  {
   "cell_type": "markdown",
   "id": "0408d3d9",
   "metadata": {},
   "source": [
    "## Extract Experience "
   ]
  },
  {
   "cell_type": "code",
   "execution_count": 65,
   "id": "a53663a9",
   "metadata": {},
   "outputs": [
    {
     "data": {
      "text/plain": [
       "'Entry Level'"
      ]
     },
     "execution_count": 65,
     "metadata": {},
     "output_type": "execute_result"
    }
   ],
   "source": [
    "data.find('div' , 'css-pkv5jc').find('div','css-1rhj4yg').find_all('div')[1].a.text"
   ]
  },
  {
   "cell_type": "markdown",
   "id": "8811b7ac",
   "metadata": {},
   "source": [
    "## Extract Years of Experience "
   ]
  },
  {
   "cell_type": "code",
   "execution_count": 97,
   "id": "19a894cc",
   "metadata": {},
   "outputs": [
    {
     "data": {
      "text/plain": [
       "'1+ Yrs of Exp'"
      ]
     },
     "execution_count": 97,
     "metadata": {},
     "output_type": "execute_result"
    }
   ],
   "source": [
    "data.find('div' , 'css-pkv5jc').find('div','css-1rhj4yg').find_all('div')[1].span.text.strip('· ')"
   ]
  },
  {
   "cell_type": "markdown",
   "id": "35581759",
   "metadata": {},
   "source": [
    "## Extract Skills "
   ]
  },
  {
   "cell_type": "code",
   "execution_count": 107,
   "id": "622d6395",
   "metadata": {},
   "outputs": [
    {
     "data": {
      "text/plain": [
       "[<a class=\"css-o171kl\" href=\"/a/IT-Software-Development-Jobs-in-Egypt\"> <!-- -->· <!-- -->IT/Software Development</a>,\n",
       " <a class=\"css-o171kl\" href=\"/a/Engineering-Telecom-Technology-Jobs-in-Egypt\"> <!-- -->· <!-- -->Engineering - Telecom/Technology</a>,\n",
       " <a class=\"css-o171kl\" href=\"/a/Training-Instructor-Jobs-in-Egypt\"> <!-- -->· <!-- -->Training/Instructor</a>,\n",
       " <a class=\"css-5x9pm1\" href=\"/a/Data-Science-Jobs-in-Egypt\"><span><strong class=\"highlight\">Data</strong><span> </span><strong class=\"highlight\">Science</strong></span></a>,\n",
       " <a class=\"css-5x9pm1\" href=\"/a/Computer-Science-Jobs-in-Egypt\"><span><span>Computer </span><strong class=\"highlight\">Science</strong></span></a>,\n",
       " <a class=\"css-5x9pm1\" href=\"/a/Computer-Engineering-Jobs-in-Egypt\"> <!-- -->· <!-- -->Computer Engineering</a>,\n",
       " <a class=\"css-5x9pm1\" href=\"/a/Python-Jobs-in-Egypt\"> <!-- -->· <!-- -->Python</a>,\n",
       " <a class=\"css-5x9pm1\" href=\"/a/Machine-Learning-Jobs-in-Egypt\"> <!-- -->· <!-- -->Machine Learning</a>,\n",
       " <a class=\"css-5x9pm1\" href=\"/a/Deep-Learning-Jobs-in-Egypt\"> <!-- -->· <!-- -->Deep Learning</a>,\n",
       " <a class=\"css-5x9pm1\" href=\"/a/Artificial-Intelligence-AI-Jobs-in-Egypt\"> <!-- -->· <!-- -->Artificial Intelligence (AI)</a>]"
      ]
     },
     "execution_count": 107,
     "metadata": {},
     "output_type": "execute_result"
    }
   ],
   "source": [
    "data.find('div' , 'css-pkv5jc').find('div','css-1rhj4yg').find_all('div')[1].find_all('a')[1:]"
   ]
  },
  {
   "cell_type": "code",
   "execution_count": 110,
   "id": "9a221f9c",
   "metadata": {},
   "outputs": [
    {
     "data": {
      "text/plain": [
       "['IT/Software Development',\n",
       " 'Engineering - Telecom/Technology',\n",
       " 'Training/Instructor',\n",
       " 'Data Science',\n",
       " 'Computer Science',\n",
       " 'Computer Engineering',\n",
       " 'Python',\n",
       " 'Machine Learning',\n",
       " 'Deep Learning',\n",
       " 'Artificial Intelligence (AI)']"
      ]
     },
     "execution_count": 110,
     "metadata": {},
     "output_type": "execute_result"
    }
   ],
   "source": [
    "skills_list=data.find('div' , 'css-pkv5jc').find('div','css-1rhj4yg').find_all('div')[1].find_all('a')[1:]\n",
    "skills= [skill.text.strip(' · ') for skill in skills_list]  \n",
    "skills"
   ]
  },
  {
   "cell_type": "markdown",
   "id": "3466beb0",
   "metadata": {},
   "source": [
    "## Extract One page Jobs"
   ]
  },
  {
   "cell_type": "code",
   "execution_count": 132,
   "id": "a6e052f1",
   "metadata": {},
   "outputs": [],
   "source": [
    "response = requests.get(url='https://wuzzuf.net/search/jobs/?a=navbl%7Cspbl&q=data%20science&start')\n",
    "data = BeautifulSoup(response.content , 'html.parser')\n",
    "  \n",
    "\n",
    "import csv\n",
    "\n",
    "# Create CSV file\n",
    "with open('Wuzzuf One Page.csv', mode= 'w', newline= '') as file:\n",
    "     # newline >>>>>>  To ignore Empty rows\n",
    "    # Create Columns Names\n",
    "    writer = csv.DictWriter(f= file, fieldnames= ['job_title', 'company_name', 'city', 'province', 'experience', 'years_of_exp', 'skills'])\n",
    "    writer.writeheader()  \n",
    "    for job in data.find_all('div' , 'css-pkv5jc') : \n",
    "        job_title =   job.find('div','css-lptxge').h2.text \n",
    "        company_name =job.find('div','css-lptxge').div.a.text\n",
    "        city          = job.find('div','css-lptxge').div.span.text.strip()\n",
    "        province      = job.find('div','css-lptxge').div.span.text.split(',')[1].strip()\n",
    "        experience     = job.find('div','css-1rhj4yg').find_all('div')[1].a.text\n",
    "        years_of_exp   = job.find('div','css-1rhj4yg').find_all('div')[1].span.text.strip('· ')\n",
    "        skills_list=data.find('div' , 'css-pkv5jc').find('div','css-1rhj4yg').find_all('div')[1].find_all('a')[1:]\n",
    "        skills= [skill.text.strip(' · ') for skill in skills_list]  \n",
    "        writer.writerow(\n",
    "            {\n",
    "                'job_title' :job_title, \n",
    "                'company_name' : company_name , \n",
    "                'city' : city , \n",
    "                'province' : province  , \n",
    "                'experience' : experience , \n",
    "                'years_of_exp': years_of_exp,  \n",
    "                'skills' :skills\n",
    "\n",
    "            }\n",
    "            )\n",
    "        \n",
    "\n",
    "\n",
    "\n",
    "\n"
   ]
  },
  {
   "cell_type": "markdown",
   "id": "aa6918a8",
   "metadata": {},
   "source": [
    "## Pagination"
   ]
  },
  {
   "cell_type": "code",
   "execution_count": 139,
   "id": "7a268098",
   "metadata": {},
   "outputs": [
    {
     "name": "stdout",
     "output_type": "stream",
     "text": [
      "Done Scraping All Pages.\n"
     ]
    }
   ],
   "source": [
    "with open('Wuzzuf Full Pages.csv', mode= 'w', newline= '') as file:\n",
    "   \n",
    "    writer = csv.DictWriter(f= file, fieldnames= ['job_title', 'company_name', 'city', 'province', 'experience', 'years_of_exp', 'skills'])\n",
    "    writer.writeheader() \n",
    "    page_num = 0\n",
    "    while True : \n",
    "        response= requests.get(url=F'https://wuzzuf.net/search/jobs/?a=navbl%7Cspbl&q=data%20science&start={page_num}')\n",
    "        data = BeautifulSoup(response.content , 'html.parser')\n",
    "        if data.find('div' , 'css-pkv5jc')==None : \n",
    "            print('Done Scraping All Pages.')\n",
    "            break \n",
    "         \n",
    "        for job in data.find_all('div' , 'css-pkv5jc') : \n",
    "            try:\n",
    "                job_title =   job.find('div','css-lptxge').h2.text \n",
    "                company_name =job.find('div','css-lptxge').div.a.text\n",
    "                city          = job.find('div','css-lptxge').div.span.text.strip()\n",
    "                province      = job.find('div','css-lptxge').div.span.text.split(',')[1].strip()\n",
    "                experience     = job.find('div','css-1rhj4yg').find_all('div')[1].a.text\n",
    "                years_of_exp   = job.find('div','css-1rhj4yg').find_all('div')[1].span.text.strip('· ')\n",
    "                skills_list=data.find('div' , 'css-pkv5jc').find('div','css-1rhj4yg').find_all('div')[1].find_all('a')[1:]\n",
    "                skills= [skill.text.strip(' · ') for skill in skills_list]  \n",
    "            except Exception as ex: \n",
    "                years_of_exp='Missing'\n",
    "            writer.writerow(\n",
    "                        {\n",
    "                            'job_title' :job_title, \n",
    "                            'company_name' : company_name , \n",
    "                            'city' : city , \n",
    "                            'province' : province  , \n",
    "                            'experience' : experience , \n",
    "                            'years_of_exp': years_of_exp,  \n",
    "                            'skills' :skills\n",
    "\n",
    "                        }\n",
    "                        )\n",
    "        \n",
    "        page_num+=1"
   ]
  },
  {
   "cell_type": "code",
   "execution_count": null,
   "id": "8ee37692",
   "metadata": {},
   "outputs": [],
   "source": []
  },
  {
   "cell_type": "code",
   "execution_count": null,
   "id": "c44976e8",
   "metadata": {},
   "outputs": [],
   "source": []
  },
  {
   "cell_type": "code",
   "execution_count": null,
   "id": "fb0a3555",
   "metadata": {},
   "outputs": [],
   "source": []
  },
  {
   "cell_type": "code",
   "execution_count": null,
   "id": "429da913",
   "metadata": {},
   "outputs": [],
   "source": []
  },
  {
   "cell_type": "code",
   "execution_count": null,
   "id": "20c22ae4",
   "metadata": {},
   "outputs": [],
   "source": []
  }
 ],
 "metadata": {
  "kernelspec": {
   "display_name": "data_collection",
   "language": "python",
   "name": "python3"
  },
  "language_info": {
   "codemirror_mode": {
    "name": "ipython",
    "version": 3
   },
   "file_extension": ".py",
   "mimetype": "text/x-python",
   "name": "python",
   "nbconvert_exporter": "python",
   "pygments_lexer": "ipython3",
   "version": "3.10.18"
  }
 },
 "nbformat": 4,
 "nbformat_minor": 5
}
